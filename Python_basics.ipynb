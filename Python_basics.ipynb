{
  "nbformat": 4,
  "nbformat_minor": 0,
  "metadata": {
    "colab": {
      "provenance": [],
      "authorship_tag": "ABX9TyPtgUeSvbsoq9eSRrp6gBUt",
      "include_colab_link": true
    },
    "kernelspec": {
      "name": "python3",
      "display_name": "Python 3"
    },
    "language_info": {
      "name": "python"
    }
  },
  "cells": [
    {
      "cell_type": "markdown",
      "metadata": {
        "id": "view-in-github",
        "colab_type": "text"
      },
      "source": [
        "<a href=\"https://colab.research.google.com/github/loft11/hello-world/blob/main/Python_basics.ipynb\" target=\"_parent\"><img src=\"https://colab.research.google.com/assets/colab-badge.svg\" alt=\"Open In Colab\"/></a>"
      ]
    },
    {
      "cell_type": "markdown",
      "source": [
        "#**ЦИФРЫ, СТРОКИ, ОПЕРАТОРЫ**"
      ],
      "metadata": {
        "id": "gJMfi-c_A-Ri"
      }
    },
    {
      "cell_type": "code",
      "execution_count": null,
      "metadata": {
        "colab": {
          "base_uri": "https://localhost:8080/"
        },
        "id": "CzUj2xgPk9Dg",
        "outputId": "99611b35-201d-4167-e023-5706b8267291"
      },
      "outputs": [
        {
          "output_type": "stream",
          "name": "stdout",
          "text": [
            "1 - 2 - 3 - 4 - 5\n"
          ]
        }
      ],
      "source": [
        "print(1,2,3,4,5,sep= ' - ')"
      ]
    },
    {
      "cell_type": "code",
      "source": [
        "print(1,2,3,4,5,sep=' пробел ')"
      ],
      "metadata": {
        "colab": {
          "base_uri": "https://localhost:8080/"
        },
        "id": "XbTohqJXlOWd",
        "outputId": "0ee9a69e-4825-4899-b71c-d7dcdcd739fe"
      },
      "execution_count": null,
      "outputs": [
        {
          "output_type": "stream",
          "name": "stdout",
          "text": [
            "1 пробел 2 пробел 3 пробел 4 пробел 5\n"
          ]
        }
      ]
    },
    {
      "cell_type": "code",
      "source": [
        "print('Мой день рождения 5 февраля!', end=' ')\n",
        "print('А Ксюшин день рождения 8 апреля')"
      ],
      "metadata": {
        "colab": {
          "base_uri": "https://localhost:8080/"
        },
        "id": "oSuYxYKvlWuy",
        "outputId": "25defc7a-2176-4f17-e910-28fd847f76b5"
      },
      "execution_count": null,
      "outputs": [
        {
          "output_type": "stream",
          "name": "stdout",
          "text": [
            "Мой день рождения 5 февраля! А Ксюшин день рождения 8 апреля\n"
          ]
        }
      ]
    },
    {
      "cell_type": "code",
      "source": [
        "print('Мой день рождения 5 февраля!', end='\\n')\n",
        "print('А Ксюшин день рождения 8 апреля')"
      ],
      "metadata": {
        "colab": {
          "base_uri": "https://localhost:8080/"
        },
        "id": "4Nk3jPdcmLXw",
        "outputId": "41be3fe1-8947-44ec-fb41-5ade6530253d"
      },
      "execution_count": null,
      "outputs": [
        {
          "output_type": "stream",
          "name": "stdout",
          "text": [
            "Мой день рождения 5 февраля!\n",
            "А Ксюшин день рождения 8 апреля\n"
          ]
        }
      ]
    },
    {
      "cell_type": "code",
      "source": [
        "print(10 + 3)                             # Сложение\n",
        "print(10 - 3)                             # Вычитание\n",
        "print(10 * 3)                             # Умножение\n",
        "print(10 / 3)                             # Деление\n",
        "print(10 ** 3)                            # Возведение в степень\n",
        "print(10 // 3)                            # Целочисленное деление (10 = 3 + 3 + 3 + 1 = 3 * 3 + 1)\n",
        "print(10 % 3)                             # Остаток от деления (10 = 3 + 3 + 3 + 1 = 3 * 3 + 1)"
      ],
      "metadata": {
        "id": "Ck2HzpsxnzOw",
        "colab": {
          "base_uri": "https://localhost:8080/"
        },
        "outputId": "b0fb2f1e-fb82-4226-d5d0-741f112fc5fa"
      },
      "execution_count": null,
      "outputs": [
        {
          "output_type": "stream",
          "name": "stdout",
          "text": [
            "13\n",
            "7\n",
            "30\n",
            "3.3333333333333335\n",
            "1000\n",
            "3\n",
            "1\n"
          ]
        }
      ]
    },
    {
      "cell_type": "markdown",
      "source": [
        "**написать в новой ячейке код, который будет выводить на экран такой результат:**\n",
        "\n",
        "    10 + 3 = 13\n",
        "    10 - 3 = 7\n",
        "    10 * 3 = 30\n",
        "    10 / 3 = 3.333\n",
        "    10 ** 3 = 1000\n",
        "    10 // 3 = 3\n",
        "    10 % 3 = 1"
      ],
      "metadata": {
        "id": "FrophUrjvlbW"
      }
    },
    {
      "cell_type": "code",
      "source": [
        "print('10 + 3 =', 10+3)"
      ],
      "metadata": {
        "colab": {
          "base_uri": "https://localhost:8080/"
        },
        "id": "b1ApSl9OvrLk",
        "outputId": "1c9b5b0f-3222-4572-87fe-3d1f53175791"
      },
      "execution_count": null,
      "outputs": [
        {
          "output_type": "stream",
          "name": "stdout",
          "text": [
            "10 + 3 = 13\n"
          ]
        }
      ]
    },
    {
      "cell_type": "code",
      "source": [
        "print('10 - 3 =', 10-3)"
      ],
      "metadata": {
        "colab": {
          "base_uri": "https://localhost:8080/"
        },
        "id": "V8BF96kYv1rX",
        "outputId": "f33492f1-70ed-43b8-8d86-c1de87f8aec9"
      },
      "execution_count": null,
      "outputs": [
        {
          "output_type": "stream",
          "name": "stdout",
          "text": [
            "10 - 3 = 7\n"
          ]
        }
      ]
    },
    {
      "cell_type": "code",
      "source": [
        "print('10 * 3 =', 10*3)"
      ],
      "metadata": {
        "colab": {
          "base_uri": "https://localhost:8080/"
        },
        "id": "zAGEcuf9wBNw",
        "outputId": "43710aaa-ac83-4d4b-b2d5-d4c194ece20c"
      },
      "execution_count": null,
      "outputs": [
        {
          "output_type": "stream",
          "name": "stdout",
          "text": [
            "10 * 3 = 30\n"
          ]
        }
      ]
    },
    {
      "cell_type": "code",
      "source": [
        "print('10 / 3 =', 10/3)"
      ],
      "metadata": {
        "colab": {
          "base_uri": "https://localhost:8080/"
        },
        "id": "4jf-IpdNwLr2",
        "outputId": "15f93edd-36e2-42c3-e1e2-bfce41acd14d"
      },
      "execution_count": null,
      "outputs": [
        {
          "output_type": "stream",
          "name": "stdout",
          "text": [
            "10 / 3 = 3.3333333333333335\n"
          ]
        }
      ]
    },
    {
      "cell_type": "code",
      "source": [
        "print('10 ** 3 =', 10**3)"
      ],
      "metadata": {
        "colab": {
          "base_uri": "https://localhost:8080/"
        },
        "id": "Wh2_k194wkjt",
        "outputId": "f09cf4d8-510e-4650-9c76-db8293bdac8f"
      },
      "execution_count": null,
      "outputs": [
        {
          "output_type": "stream",
          "name": "stdout",
          "text": [
            "10 ** 3 = 1000\n"
          ]
        }
      ]
    },
    {
      "cell_type": "code",
      "source": [
        "print('10 // 3 =', 10//3)"
      ],
      "metadata": {
        "colab": {
          "base_uri": "https://localhost:8080/"
        },
        "id": "GH6hJXnCw8k5",
        "outputId": "9c67b722-888a-4247-b76d-38c6a5fc81b0"
      },
      "execution_count": null,
      "outputs": [
        {
          "output_type": "stream",
          "name": "stdout",
          "text": [
            "10 // 3 = 3\n"
          ]
        }
      ]
    },
    {
      "cell_type": "code",
      "source": [
        "print('10 % 3 =', 10%3)"
      ],
      "metadata": {
        "colab": {
          "base_uri": "https://localhost:8080/"
        },
        "id": "eor1AINrxH3r",
        "outputId": "ea56754d-394b-4aec-fd1a-6f2bdc9f9cf4"
      },
      "execution_count": null,
      "outputs": [
        {
          "output_type": "stream",
          "name": "stdout",
          "text": [
            "10 % 3 = 1\n"
          ]
        }
      ]
    },
    {
      "cell_type": "markdown",
      "source": [
        "**Переменные**"
      ],
      "metadata": {
        "id": "I5cn21gUxqol"
      }
    },
    {
      "cell_type": "code",
      "source": [
        "first_number = 9\n",
        "second_number = 7\n",
        "\n",
        "print(first_number)\n",
        "print(second_number)"
      ],
      "metadata": {
        "colab": {
          "base_uri": "https://localhost:8080/"
        },
        "id": "eQg_ay5lxQ4Y",
        "outputId": "d3e717e3-c185-44a5-b0e1-e9ab7c04c6bd"
      },
      "execution_count": null,
      "outputs": [
        {
          "output_type": "stream",
          "name": "stdout",
          "text": [
            "9\n",
            "7\n"
          ]
        }
      ]
    },
    {
      "cell_type": "code",
      "source": [
        "# Код из предыдущего примера, но с заменой всех чисел на переменные\n",
        "print(first_number + second_number)\n",
        "print(first_number - second_number)\n",
        "print(first_number * second_number)\n",
        "print(first_number / second_number)\n",
        "print(first_number ** second_number)\n",
        "print(first_number // second_number)\n",
        "print(first_number % second_number)"
      ],
      "metadata": {
        "colab": {
          "base_uri": "https://localhost:8080/"
        },
        "id": "LHo69tQlx5gv",
        "outputId": "0fd86652-e3d5-4a5a-f2c5-8b484ac2d1d2"
      },
      "execution_count": null,
      "outputs": [
        {
          "output_type": "stream",
          "name": "stdout",
          "text": [
            "16\n",
            "2\n",
            "63\n",
            "1.2857142857142858\n",
            "4782969\n",
            "1\n",
            "2\n"
          ]
        }
      ]
    },
    {
      "cell_type": "markdown",
      "source": [
        "#**РАБОТА С УСЛОВИЯМИ**"
      ],
      "metadata": {
        "id": "nO171p4rBbd5"
      }
    },
    {
      "cell_type": "markdown",
      "source": [
        "Только + 🌶️\n",
        "**Напишите программу, которая считывает три числа и подсчитывает сумму только положительных чисел**\n",
        "\n",
        "**Формат входных данных**\n",
        "На вход программе подаются три целых числа.\n",
        "\n",
        "**Формат выходных данных**\n",
        "Программа должна вывести одно число – сумму положительных чисел."
      ],
      "metadata": {
        "id": "7XBWjxSL_EgB"
      }
    },
    {
      "cell_type": "code",
      "source": [
        "a = int(input())\n",
        "b = int(input())\n",
        "c = int(input())\n",
        "#вводим переменную для подсчета суммы\n",
        "summa = 0\n",
        "if a > 0:\n",
        "  summa = summa + a\n",
        "if b > 0:\n",
        "  summa = summa + b\n",
        "if c > 0:\n",
        "  summa = summa + c\n",
        "print(summa)\n"
      ],
      "metadata": {
        "id": "rGtNxkG0yiFp",
        "colab": {
          "base_uri": "https://localhost:8080/"
        },
        "outputId": "15782c7d-9349-4688-8df6-27995e5607c6"
      },
      "execution_count": null,
      "outputs": [
        {
          "output_type": "stream",
          "name": "stdout",
          "text": [
            "76\n",
            "94432\n",
            "-133\n",
            "94508\n"
          ]
        }
      ]
    },
    {
      "cell_type": "code",
      "source": [
        "x = int(input())\n",
        "if (x > -30 and x <= -2) or (x > 7 and x <= 25):\n",
        "  print(\"Принадлежит\")\n",
        "else:\n",
        "  print(\"Не принадлежит\")"
      ],
      "metadata": {
        "colab": {
          "base_uri": "https://localhost:8080/"
        },
        "id": "yE70DI6FAmow",
        "outputId": "4e92f1f6-82a7-470b-dd04-ee95aef3ce74"
      },
      "execution_count": null,
      "outputs": [
        {
          "output_type": "stream",
          "name": "stdout",
          "text": [
            "-332\n",
            "Не принадлежит\n"
          ]
        }
      ]
    },
    {
      "cell_type": "markdown",
      "source": [
        "Красивое число 🌶️\n",
        "Назовем число красивым, если оно является четырехзначным и делится нацело на\n",
        "7\n",
        "7 или на\n",
        "17\n",
        "17. Напишите программу, определяющую, является ли введённое число красивым. Программа должна вывести «YES», если число является красивым, или «NO» в противном случае.\n",
        "\n",
        "Формат входных данных\n",
        "На вход программе подаётся натуральное число.\n",
        "\n",
        "Формат выходных данных\n",
        "Программа должна вывести текст в соответствии с условием задачи.\n",
        "\n"
      ],
      "metadata": {
        "id": "fWF7cGvCS1_z"
      }
    },
    {
      "cell_type": "code",
      "source": [
        "x = int(input())\n",
        "#условие для 4 начного числа\n",
        "if (x > 999 and x <= 9999) and (x % 7 == 0 or x % 17 == 0):\n",
        "  print(\"YES\")\n",
        "else:\n",
        "  print(\"NO\")"
      ],
      "metadata": {
        "colab": {
          "base_uri": "https://localhost:8080/"
        },
        "id": "YFgtkp0CQ2jf",
        "outputId": "c109b42e-451d-4a98-8383-6d3b982de6a2"
      },
      "execution_count": null,
      "outputs": [
        {
          "output_type": "stream",
          "name": "stdout",
          "text": [
            "2057\n",
            "YES\n"
          ]
        }
      ]
    },
    {
      "cell_type": "markdown",
      "source": [
        "Существует ли треугольник с такими сторонами\n"
      ],
      "metadata": {
        "id": "ap8oFNA5VAWs"
      }
    },
    {
      "cell_type": "code",
      "source": [
        "a = int(input())\n",
        "b = int(input())\n",
        "c = int(input())\n",
        "if ((a + b) > c) and ((a + c) > b) and ((b + c) > a):\n",
        "  print(\"YES\")\n",
        "else:\n",
        "  print(\"NO\")"
      ],
      "metadata": {
        "colab": {
          "base_uri": "https://localhost:8080/"
        },
        "id": "3HhIVgboTgu1",
        "outputId": "6dce2a05-d504-462d-a0a4-1641c818936b"
      },
      "execution_count": null,
      "outputs": [
        {
          "output_type": "stream",
          "name": "stdout",
          "text": [
            "8\n",
            "2\n",
            "4\n",
            "NO\n"
          ]
        }
      ]
    },
    {
      "cell_type": "markdown",
      "source": [
        "Определить, високосный ли год\n",
        "Год високосный, если он кратен 4, но не кратен 100 или если кратен 400"
      ],
      "metadata": {
        "id": "m7nfrtPpXuPJ"
      }
    },
    {
      "cell_type": "code",
      "source": [
        "year = int(input())\n",
        "if (year % 4 == 0 and not(year % 100 == 0)) or year % 400 == 0:\n",
        "  print(\"YES\")\n",
        "else:\n",
        "  print(\"NO\")"
      ],
      "metadata": {
        "colab": {
          "base_uri": "https://localhost:8080/"
        },
        "id": "LCU12B5ZTjMQ",
        "outputId": "13217cbd-6ccf-4f91-fe41-8e98a07c51b1"
      },
      "execution_count": null,
      "outputs": [
        {
          "output_type": "stream",
          "name": "stdout",
          "text": [
            "2009\n",
            "NO\n"
          ]
        }
      ]
    },
    {
      "cell_type": "markdown",
      "source": [
        "**Ход ладьи**, попадет ли ладья на следующую клетку\n"
      ],
      "metadata": {
        "id": "Jqo3bgo4Z-e6"
      }
    },
    {
      "cell_type": "code",
      "source": [
        "x1, y1 = int(input()), int(input())\n",
        "x2, y2 = int(input()), int(input())\n",
        "if x1 == x2  or y1 == y2:\n",
        "  print(\"YES\")\n",
        "else:\n",
        "  print(\"NO\")"
      ],
      "metadata": {
        "colab": {
          "base_uri": "https://localhost:8080/"
        },
        "id": "zOd1hP2JX5qa",
        "outputId": "589be6b1-9a28-48ef-86f0-895ef6958579"
      },
      "execution_count": null,
      "outputs": [
        {
          "output_type": "stream",
          "name": "stdout",
          "text": [
            "4\n",
            "4\n",
            "5\n",
            "5\n",
            "NO\n"
          ]
        }
      ]
    },
    {
      "cell_type": "markdown",
      "source": [
        "**Ход короля**"
      ],
      "metadata": {
        "id": "e82rtUP6oDcB"
      }
    },
    {
      "cell_type": "code",
      "source": [
        "x1, y1 = int(input()), int(input())\n",
        "x2, y2 = int(input()), int(input())\n",
        "if (-1 <= x1 - x2 <= 1) and (- 1 <= y1 - y2 <= 1):\n",
        "  print(\"YES\")\n",
        "else:\n",
        "  print(\"NO\")"
      ],
      "metadata": {
        "colab": {
          "base_uri": "https://localhost:8080/"
        },
        "id": "LHXxrTqiZvee",
        "outputId": "0fe44df4-1b51-4d9a-8e3a-05cb4462f68d"
      },
      "execution_count": null,
      "outputs": [
        {
          "output_type": "stream",
          "name": "stdout",
          "text": [
            "4\n",
            "4\n",
            "5\n",
            "4\n",
            "YES\n"
          ]
        }
      ]
    },
    {
      "cell_type": "code",
      "source": [
        "n = int(input())\n",
        "k = int(input())\n",
        "if n > k:\n",
        "  print(\"NO\")\n",
        "elif n < k:\n",
        "  print(\"YES\")\n",
        "else:\n",
        "  print(\"Don't know\")\n"
      ],
      "metadata": {
        "id": "HzuhZX-Tb7kg",
        "colab": {
          "base_uri": "https://localhost:8080/"
        },
        "outputId": "7e065aa7-8242-4c13-baab-1d5c6f2fc43d"
      },
      "execution_count": null,
      "outputs": [
        {
          "output_type": "stream",
          "name": "stdout",
          "text": [
            "2344\n",
            "4324\n",
            "YES\n"
          ]
        }
      ]
    },
    {
      "cell_type": "markdown",
      "source": [
        "Написать программу, которая определяет тип треугольника по сторонам"
      ],
      "metadata": {
        "id": "QJWOyweIcGKK"
      }
    },
    {
      "cell_type": "code",
      "source": [
        "a = int(input())\n",
        "b = int(input())\n",
        "c = int(input())\n",
        "if a == b == c:\n",
        "  print(\"Равносторонний\")\n",
        "elif (a == b and b != c) or (a == c and c !=b) or (b == c and c !=a):\n",
        "  print(\"Равнобедренный\")\n",
        "elif a != b != c:\n",
        "  print(\"Разносторонний\")"
      ],
      "metadata": {
        "colab": {
          "base_uri": "https://localhost:8080/"
        },
        "id": "-geVCJZZZXxX",
        "outputId": "a9eb41e6-e539-41af-e381-1066714107f1"
      },
      "execution_count": null,
      "outputs": [
        {
          "output_type": "stream",
          "name": "stdout",
          "text": [
            "180\n",
            "199\n",
            "700\n",
            "Разносторонний\n"
          ]
        }
      ]
    },
    {
      "cell_type": "markdown",
      "source": [
        "Даны три различных целых числа. Напишите программу, которая находит среднее по величине число.\n",
        "\n",
        "Формат входных данных\n",
        "На вход программе подаётся три различных целых числа, каждое на отдельной строке.\n",
        "\n",
        "Формат выходных данных\n",
        "Программа должна вывести среднее по величине число.\n",
        "\n",
        "Примечание. Средним по величине называется число, которое будет вторым, если три числа отсортировать в порядке возрастания."
      ],
      "metadata": {
        "id": "Up2g7PfX_JTO"
      }
    },
    {
      "cell_type": "code",
      "source": [
        "a = int(input())\n",
        "b = int(input())\n",
        "c = int(input())\n",
        "if (a < b and a > c) or (a < c and a > b):  #b будет большим числом, с будет меньшим числом, наоборот б будет меньшим числом и с будет большим\n",
        "  print(a)\n",
        "elif (b < a and b > c) or (b < c and b > a):\n",
        "  print(b) #a большее число, с меньшее, с большее, а меньшее\n",
        "else:\n",
        "  print(c)\n"
      ],
      "metadata": {
        "colab": {
          "base_uri": "https://localhost:8080/"
        },
        "id": "xthjYrw6cNDX",
        "outputId": "b4213c58-cee9-4c53-b2de-f69866cef4ec"
      },
      "execution_count": null,
      "outputs": [
        {
          "output_type": "stream",
          "name": "stdout",
          "text": [
            "10\n",
            "30\n",
            "20\n",
            "20\n"
          ]
        }
      ]
    },
    {
      "cell_type": "markdown",
      "source": [
        "**Количество дней**\n",
        "Дан порядковый номер месяца\n",
        "(1,2,…, 12). Напишите программу, которая выводит на экран количество дней в этом месяце. Принять, что год является невисокосным.\n",
        "\n",
        "Формат входных данных\n",
        "На вход программе подаётся одно целое число – порядковый номер месяца.\n",
        "\n",
        "Формат выходных данных\n",
        "Программа должна вывести количество дней в этом месяце.\n",
        "\n",
        "Примечание. Постарайтесь написать программу так, чтобы в ней было не более трех условий."
      ],
      "metadata": {
        "id": "J4izM7YQ_RRM"
      }
    },
    {
      "cell_type": "code",
      "source": [
        "year = int(input())\n",
        "if year == 1 or year == 3 or year == 5 or year == 7 or year == 8 or year == 10 or year == 12:\n",
        "  print(31)\n",
        "elif year == 4 or year == 6 or year == 9 or year == 11:\n",
        "  print(30)\n",
        "elif year == 2:\n",
        "  print(28)"
      ],
      "metadata": {
        "colab": {
          "base_uri": "https://localhost:8080/"
        },
        "id": "Wrb91UMs_IIi",
        "outputId": "1487ffdb-4a12-4583-d68e-88158a57c6a9"
      },
      "execution_count": null,
      "outputs": [
        {
          "output_type": "stream",
          "name": "stdout",
          "text": [
            "12\n",
            "31\n"
          ]
        }
      ]
    },
    {
      "cell_type": "markdown",
      "source": [
        "**Церемония взвешивания**\n",
        "Известен вес боксера-любителя (целое число). Известно, что вес таков, что боксер может быть отнесён к одной из трех весовых категорий:\n",
        "\n",
        "Легкий вес – до\n",
        "60\n",
        "60 кг (невключительно);\n",
        "Первый полусредний вес – до\n",
        "64\n",
        "64 кг (невключительно);\n",
        "Полусредний вес – до\n",
        "69\n",
        "69 кг (невключительно).\n",
        "Напишите программу, определяющую, в какой категории будет выступать данный боксер.\n",
        "\n",
        "Формат входных данных\n",
        "На вход программе подаётся одно целое число.\n",
        "\n",
        "Формат выходных данных\n",
        "Программа должна вывести текст – название весовой категории.\n"
      ],
      "metadata": {
        "id": "j6z6QNp5Ae8B"
      }
    },
    {
      "cell_type": "code",
      "source": [
        "weight = int(input())\n",
        "if weight < 60:\n",
        "  print(\"Легкий вес\")\n",
        "elif weight >= 60 and weight < 64:\n",
        "  print(\"Первый полусредний вес\")\n",
        "elif weight >= 64 and weight < 69:\n",
        "  print(\"Полусредний вес\")"
      ],
      "metadata": {
        "colab": {
          "base_uri": "https://localhost:8080/"
        },
        "id": "9gSRtwlqAqTe",
        "outputId": "2aa9cca7-bd6e-450f-d3fd-70068ecea29a"
      },
      "execution_count": null,
      "outputs": [
        {
          "output_type": "stream",
          "name": "stdout",
          "text": [
            "60\n",
            "Первый полусредний вес\n"
          ]
        }
      ]
    },
    {
      "cell_type": "markdown",
      "source": [
        "**Самописный калькулятор**🌶️\n",
        "Напишите программу, которая считывает с клавиатуры два целых числа и строку. Если эта строка является обозначением одной из четырёх математических операций (+, -, *, /), то выведите результат применения этой операции к введённым ранее числам, в противном случае выведите «Неверная операция» (без кавычек). Если пользователь захочет поделить на ноль, выведите текст «На ноль делить нельзя!» (без кавычек).\n",
        "\n",
        "Формат входных данных\n",
        "На вход программе подаются два целых числа и строка, всё на отдельной строке.\n",
        "\n",
        "Формат выходных данных\n",
        "Программа должна вывести результат применения операции к введенным числам или соответствующий текст, если операция неверная либо если происходит деление на ноль."
      ],
      "metadata": {
        "id": "3AenOjKfB9er"
      }
    },
    {
      "cell_type": "code",
      "source": [
        "a = int(input())\n",
        "b = int(input())\n",
        "operation = input()\n",
        "if operation == \"+\":\n",
        "  print(a + b)\n",
        "elif operation == \"-\":\n",
        "  print(a - b)\n",
        "elif operation == \"*\":\n",
        "  print(a * b)\n",
        "elif operation == \"/\":\n",
        "    if b == 0 and operation == \"/\":\n",
        "      print(\"На ноль делить нельзя!\")\n",
        "    else:\n",
        "        print(a / b)\n",
        "else:\n",
        "  print(\"Неверная операция\")\n",
        "\n"
      ],
      "metadata": {
        "colab": {
          "base_uri": "https://localhost:8080/"
        },
        "id": "M67HkjsqCF_T",
        "outputId": "1d559826-8862-48f1-f7f2-8a7258125dc1"
      },
      "execution_count": null,
      "outputs": [
        {
          "output_type": "stream",
          "name": "stdout",
          "text": [
            "20\n",
            "30\n",
            "-\n",
            "-10\n"
          ]
        }
      ]
    },
    {
      "cell_type": "markdown",
      "source": [
        "**Цветовой микшер** 🌶️\n",
        "Красный, синий и желтый называются основными цветами, потому что их нельзя получить путем смешения других цветов. При смешивании двух основных цветов получается вторичный цвет:\n",
        "\n",
        "\n",
        "1.  если смешать красный и синий, то получится фиолетовый;\n",
        "2.  если смешать красный и желтый, то получится оранжевый\n",
        "3. если смешать синий и желтый, то получится зеленый\n",
        "\n",
        "\n",
        "Напишите программу, которая считывает названия двух основных цветов для смешивания.\n",
        "Если пользователь вводит что-нибудь помимо названий «красный», «синий» или «желтый», то программа должна вывести сообщение об ошибке\n",
        "В противном случае программа должна вывести название вторичного цвета, который получится в результате.\n",
        "\n",
        "Формат входных данных\n",
        "На вход программе подаются две строки, каждая на отдельной строке.\n",
        "\n",
        "Формат выходных данных\n",
        "Программа должна вывести полученный цвет смешения либо сообщение «ошибка цвета», если введён был не цвет.\n",
        "\n",
        "Примечание 1. Если смешать красный и красный, то получится красный и т.д."
      ],
      "metadata": {
        "id": "c_nnhJBcHxLb"
      }
    },
    {
      "cell_type": "code",
      "source": [
        "color1 = input()\n",
        "color2 = input()\n",
        "if (color1 == \"красный\" and color2 == \"синий\") or (color1 == \"синий\" and color2 == \"красный\"):\n",
        "  print(\"фиолетовый\")\n",
        "elif (color1 == \"красный\" and color2 == \"желтый\") or (color1 == \"желтый\" and color2 == \"красный\"):\n",
        "  print(\"оранжевый\")\n",
        "elif (color1 == \"синий\" and color2 == \"желтый\") or (color1 == \"желтый\" and color2 == \"синий\"):\n",
        "  print(\"зеленый\")\n",
        "elif color1 == \"красный\" and color1 == color2:\n",
        "  print(\"красный\")\n",
        "elif color1 == \"синий\" and color1 == color2:\n",
        "  print(\"синий\")\n",
        "elif color1 == \"желтый\" and color1 == color2:\n",
        "  print(\"желтый\")\n",
        "else:\n",
        "  print(\"ошибка цвета\")\n"
      ],
      "metadata": {
        "colab": {
          "base_uri": "https://localhost:8080/"
        },
        "id": "Vz3PYAYCIP_R",
        "outputId": "abcb5b04-f3a9-4651-802a-c8d909d1105f"
      },
      "execution_count": null,
      "outputs": [
        {
          "output_type": "stream",
          "name": "stdout",
          "text": [
            "красный\n",
            "красный\n",
            "красный\n"
          ]
        }
      ]
    },
    {
      "cell_type": "markdown",
      "source": [
        "**Цвета колеса рулетки** 🌶️\n",
        "На колесе рулетки карманы пронумерованы от 0 до 36.\n",
        "Ниже приведены цвета карманов:\n",
        "\n",
        "* карман 0 зеленый;\n",
        "* для карманов с 1 по 10 -  карманы с нечетным номером имеют красный цвет, карманы с четным номером – черный;\n",
        "* для карманов с 11 по 18 -  карманы с нечетным номером имеют черный цвет, карманы с четным номером – красный;\n",
        "* для карманов с 19 по 28 - карманы с нечетным номером имеют красный цвет, карманы с четным номером – черный;\n",
        "* для карманов с 29 по 36 -  карманы с нечетным номером имеют черный цвет, карманы с четным номером – красный.\n",
        "\n",
        "Напишите программу, которая считывает номер кармана и показывает, **является ли этот карман зеленым, красным или черным**. Программа должна вывести сообщение об ошибке, если пользователь вводит число, которое лежит вне диапазона от\n",
        "0 до 36.\n",
        "\n",
        "Формат входных данных\n",
        "На вход программе подаётся одно целое число.\n",
        "\n",
        "Формат выходных данных\n",
        "Программа должна вывести цвет кармана либо сообщение **«ошибка ввода»**, если введённое число лежит вне диапазона от\n",
        "0 до 36.\n",
        "\n"
      ],
      "metadata": {
        "id": "4aZczwELLJ37"
      }
    },
    {
      "cell_type": "code",
      "source": [
        "x = int(input())\n",
        "if x == 0:\n",
        "  print(\"зеленый\")\n",
        "elif 0 < x <= 10:\n",
        "  if (x % 2) != 0:\n",
        "    print(\"красный\")\n",
        "  elif (x % 2) == 0:\n",
        "    print(\"черный\")\n",
        "elif 11 <= x <= 18:\n",
        "  if (x % 2) != 0:\n",
        "    print(\"черный\")\n",
        "  elif (x % 2) == 0:\n",
        "    print(\"красный\")\n",
        "elif 19 <= x <= 28:\n",
        "  if (x % 2) != 0:\n",
        "    print(\"красный\")\n",
        "  elif (x % 2) == 0:\n",
        "    print(\"черный\")\n",
        "elif 29 <= x <= 36:\n",
        "  if (x % 2) != 0:\n",
        "    print(\"черный\")\n",
        "  elif (x % 2) == 0:\n",
        "    print(\"красный\")\n",
        "elif x < 0 or x >= 37:\n",
        "  print(\"ошибка ввода\")\n"
      ],
      "metadata": {
        "colab": {
          "base_uri": "https://localhost:8080/"
        },
        "id": "rMc3UvhRMMg0",
        "outputId": "64133a97-84dd-4ff5-9a19-d99c79818beb"
      },
      "execution_count": null,
      "outputs": [
        {
          "output_type": "stream",
          "name": "stdout",
          "text": [
            "37\n",
            "ошибка ввода\n"
          ]
        }
      ]
    },
    {
      "cell_type": "code",
      "source": [
        "a1, b1 = int(input()), int(input())\n",
        "a2, b2 = int(input()), int(input())\n",
        "if b1 < a2 or b2 < a1:\n",
        "  print(\"пустое множество\")\n",
        "elif b1 == a2:\n",
        "  print(b1)\n",
        "elif b2 == a1:\n",
        "  print(b2)\n",
        "elif a2 > a1 and b1 < b2:\n",
        "  print(a1, b1)\n",
        "elif a2 < a1 and b1 > b2:\n",
        "  print(a1, b2)\n",
        "elif a1 >= a2 and b2 >= b1:\n",
        "  print(a1, b1)\n",
        "elif a1 <= a2 and b2 <= b1:\n",
        "  print(a2, b2)"
      ],
      "metadata": {
        "id": "k364ZvlyPoDc"
      },
      "execution_count": null,
      "outputs": []
    },
    {
      "cell_type": "markdown",
      "source": [
        "Напишите программу, которая определяет, оканчивается ли год с данным номером на два нуля. Если год оканчивается, то выведите «YES», иначе выведите «NO».\n",
        "\n",
        "Формат входных данных\n",
        "На вход программе подаётся натуральное число.\n",
        "\n",
        "Формат выходных данных\n",
        "Программа должна вывести текст в соответствии с условием задачи."
      ],
      "metadata": {
        "id": "-53fqr9Siq1b"
      }
    },
    {
      "cell_type": "code",
      "source": [
        "x = int(input())\n",
        "if (x % 10 == 0) and ((x % 100)//10 == 0):\n",
        "  print(\"YES\")\n",
        "else:\n",
        "  print(\"NO\")"
      ],
      "metadata": {
        "colab": {
          "base_uri": "https://localhost:8080/"
        },
        "id": "P-JacJGJirPD",
        "outputId": "d985892e-5f1f-41b4-d2c2-72a73ea5831a"
      },
      "execution_count": null,
      "outputs": [
        {
          "output_type": "stream",
          "name": "stdout",
          "text": [
            "3000\n",
            "YES\n"
          ]
        }
      ]
    },
    {
      "cell_type": "markdown",
      "source": [
        "Шахматная доска\n",
        "Заданы две клетки шахматной доски. Напишите программу, которая определяет, имеют ли указанные клетки один цвет или нет. Если они покрашены в один цвет, то выведите слово «YES», а если в разные цвета, то «NO».\n",
        "\n",
        "Формат входных данных\n",
        "На вход программе подаётся четыре числа от\n",
        "1\n",
        "1 до\n",
        "8\n",
        "8 каждое, задающие номер столбца и номер строки сначала для первой клетки, потом для второй клетки."
      ],
      "metadata": {
        "id": "k-Vw1jNhjve8"
      }
    },
    {
      "cell_type": "code",
      "source": [
        "a1 = int(input())\n",
        "a2 = int(input())\n",
        "b1 = int(input())\n",
        "b2 = int(input())\n",
        "if ((a1 + a2) % 2 ) == ((b1 + b2) % 2):\n",
        "    print(\"YES\")\n",
        "else:\n",
        "    print(\"NO\")\n"
      ],
      "metadata": {
        "id": "to7eabqWjy9l"
      },
      "execution_count": null,
      "outputs": []
    },
    {
      "cell_type": "markdown",
      "source": [
        "Футбольная команда набирает девочек от 10 до 15 лет включительно. Напишите программу, которая запрашивает возраст и пол претендента, используя обозначение пола буквы m (от male – мужчина) и f (от female – женщина) и определяет подходит ли претендент для вступления в команду или нет. Если претендент подходит, то выведите «YES», иначе выведите «NO».\n",
        "\n",
        "Формат входных данных\n",
        "На вход программе подаётся натуральное число – возраст претендента и буква обозначающая пол m (мужчина) или f (женщина)."
      ],
      "metadata": {
        "id": "_vPzH_P8jyxl"
      }
    },
    {
      "cell_type": "code",
      "source": [
        "age = int(input())\n",
        "sex = input()\n",
        "if (age >= 10 and age <= 15) and sex == \"f\":\n",
        "  print(\"YES\")\n",
        "else:\n",
        "  print(\"NO\")"
      ],
      "metadata": {
        "colab": {
          "base_uri": "https://localhost:8080/"
        },
        "id": "vStU9xJ9jyCF",
        "outputId": "da68eca2-3cd3-43f8-b722-996c790d4665"
      },
      "execution_count": null,
      "outputs": [
        {
          "output_type": "stream",
          "name": "stdout",
          "text": [
            "10\n",
            "f\n",
            "YES\n"
          ]
        }
      ]
    },
    {
      "cell_type": "markdown",
      "source": [
        "***Римские цифры***\n",
        "Напишите программу, которая считывает целое число и выводит соответствующую ему римскую цифру. Если число находится вне диапазона\n",
        "1\n",
        "−\n",
        "10\n",
        "1−10, то программа должна вывести текст «ошибка».\n",
        "\n",
        "В таблице приведены римские цифры для чисел от\n",
        "1\n",
        "1 до\n",
        "10\n",
        "10.\n",
        "\n",
        "Число\tРимская цифра\n",
        "1\tI\n",
        "2\tII\n",
        "3\tIII\n",
        "4\tIV\n",
        "5\tV\n",
        "6\tVI\n",
        "7\tVII\n",
        "8\tVIII\n",
        "9\tIX\n",
        "10\tX"
      ],
      "metadata": {
        "id": "gMzFsWIRk7tj"
      }
    },
    {
      "cell_type": "code",
      "source": [
        "x = int(input())\n",
        "if x == 1:\n",
        "  print(\"I\")\n",
        "elif x == 2:\n",
        "  print(\"II\")\n",
        "elif x == 3:\n",
        "  print(\"III\")\n",
        "elif x == 4:\n",
        "  print(\"IV\")\n",
        "elif x == 5:\n",
        "  print(\"V\")\n",
        "elif x == 6:\n",
        "  print(\"VI\")\n",
        "elif x == 7:\n",
        "  print(\"VII\")\n",
        "elif x == 8:\n",
        "  print(\"VIII\")\n",
        "elif x == 9:\n",
        "  print(\"IX\")\n",
        "elif x == 10:\n",
        "  print(\"X\")\n",
        "elif x < 1 or x > 10:\n",
        "  print(\"ошибка\")"
      ],
      "metadata": {
        "id": "CVkT87Xvk-dr"
      },
      "execution_count": null,
      "outputs": []
    },
    {
      "cell_type": "markdown",
      "source": [
        "YES or NO вот в чем вопрос\n",
        "Напишите программу, которая принимает на вход число и в зависимости от условий выводит текст «YES», либо «NO».\n",
        "\n",
        "Условия:\n",
        "\n",
        "если число нечётное, то вывести «YES»;\n",
        "если число чётное в диапазоне от 2 до 5 (включительно), то вывести «NO»;\n",
        "если число чётное в диапазоне от 6 до 20 (включительно), то вывести «YES»;\n",
        "если число чётное и больше 20, то вывести «NO».\n",
        "Формат входных данных\n",
        "На вход программе подаётся натуральное число.\n",
        "\n",
        "Формат выходных данных\n",
        "Программа должна вывести текст в соответствии с условием задачи.\n",
        "\n"
      ],
      "metadata": {
        "id": "UOz8_PZKk_cm"
      }
    },
    {
      "cell_type": "code",
      "source": [
        "x = int(input())\n",
        "if x % 2 != 0:\n",
        "  print(\"YES\")\n",
        "elif (x % 2 == 0) and (2 <= x < 5):\n",
        "  print(\"NO\")\n",
        "elif (x % 2 == 0) and (6 <= x <= 20):\n",
        "  print(\"YES\")\n",
        "elif (x % 2 == 0) and x > 20:\n",
        "  print(\"NO\")\n"
      ],
      "metadata": {
        "colab": {
          "base_uri": "https://localhost:8080/"
        },
        "id": "4kPuMxEWmnAG",
        "outputId": "a37b8f13-f805-4512-af12-52a041107237"
      },
      "execution_count": null,
      "outputs": [
        {
          "output_type": "stream",
          "name": "stdout",
          "text": [
            "5\n",
            "YES\n"
          ]
        }
      ]
    },
    {
      "cell_type": "markdown",
      "source": [
        "Ход слона 🌶️\n",
        "Даны две различные клетки шахматной доски. Напишите программу, которая определяет, может ли слон попасть с первой клетки на вторую одним ходом. Программа получает на вход четыре числа от 1 до 8 каждое, задающие номер столбца и номер строки сначала для первой клетки, потом для второй клетки. Программа должна вывести «YES», если из первой клетки ходом слона можно попасть во вторую или «NO» в противном случае.\n",
        "\n",
        "Формат входных данных\n",
        "На вход программе подаётся четыре числа от 1 до 8.\n",
        "\n",
        "Формат выходных данных\n",
        "Программа должна вывести текст в соответствии с условием задачи.\n",
        "\n",
        "Примечание. Шахматный слон ходит по диагоналям."
      ],
      "metadata": {
        "id": "5xn1pC7ao4Cg"
      }
    },
    {
      "cell_type": "code",
      "source": [
        "x1, y1 = int(input()), int(input())\n",
        "x2, y2 = int(input()), int(input())\n",
        "if (x1 - y1) == (x2 - y2) or (x1 + y1) == (x2 + y2):\n",
        "  print(\"YES\")\n",
        "else:\n",
        "  print(\"NO\")"
      ],
      "metadata": {
        "colab": {
          "base_uri": "https://localhost:8080/"
        },
        "id": "h9NobRhHo_2C",
        "outputId": "7aaa85de-e185-4c48-bee6-80d4506ab1d2"
      },
      "execution_count": null,
      "outputs": [
        {
          "output_type": "stream",
          "name": "stdout",
          "text": [
            "4\n",
            "4\n",
            "5\n",
            "3\n",
            "YES\n"
          ]
        }
      ]
    },
    {
      "cell_type": "markdown",
      "source": [
        "**Ход коня**\n",
        "Даны две различные клетки шахматной доски. Напишите программу,  которая определяет, может ли конь попасть с первой клетки на вторую одним ходом. Программа получает на вход четыре числа от 1 до 8 каждое, задающие номер столбца и номер строки сначала для первой клетки, потом для второй клетки. Программа должна вывести «YES», если из первой клетки ходом коня можно попасть во вторую или «NO» в противном случае.\n",
        "\n",
        "Формат входных данных\n",
        "На вход программе подаётся четыре числа от 1 до 8.\n",
        "\n",
        "Формат выходных данных\n",
        "Программа должна вывести текст в соответствии с условием задачи.\n",
        "\n",
        "Примечание. Шахматный конь ходит буквой «Г»."
      ],
      "metadata": {
        "id": "Ut_nRa3OrHNw"
      }
    },
    {
      "cell_type": "code",
      "source": [
        "x1, y1 = int(input()), int(input())\n",
        "x2, y2 = int(input()), int(input())\n",
        "if ((x1 - x2 == 1) or (x1 - x2 == -1)) and ((y1 - y2 == -2) or (y1 - y2 == 2)):\n",
        "  print(\"YES\")\n",
        "elif ((x1 - x2 == 2) or (x1 - x2 == -2)) and ((y1 - y2 == -1) or (y1 - y2 == 1)):\n",
        "   print(\"YES\")\n",
        "else:\n",
        "  print(\"NO\")"
      ],
      "metadata": {
        "colab": {
          "base_uri": "https://localhost:8080/"
        },
        "id": "E5y5W9eGrFel",
        "outputId": "4ac4f1f5-c1e7-425d-c38c-fd1d6a5ee2f4"
      },
      "execution_count": null,
      "outputs": [
        {
          "output_type": "stream",
          "name": "stdout",
          "text": [
            "1\n",
            "1\n",
            "8\n",
            "8\n",
            "NO\n"
          ]
        }
      ]
    },
    {
      "cell_type": "markdown",
      "source": [
        "**Ход ферзя**\n",
        "Даны две различные клетки шахматной доски. Напишите программу,  которая определяет, может ли ферзь попасть с первой клетки на вторую одним ходом. Программа получает на вход четыре числа от 1 до 8 каждое, задающие номер столбца и номер строки сначала для первой клетки, потом для второй клетки. Программа должна вывести «YES», если из первой клетки ходом ферзя можно попасть во вторую или «NO» в противном случае.\n",
        "\n",
        "Формат входных данных\n",
        "На вход программе подаётся четыре числа от 1 до 8.\n",
        "\n",
        "Формат выходных данных\n",
        "Программа должна вывести текст в соответствии с условием задачи.\n",
        "\n",
        "Примечание. Шахматный ферзь ходит по диагонали, горизонтали или вертикали."
      ],
      "metadata": {
        "id": "lfsydqvfs7ky"
      }
    },
    {
      "cell_type": "code",
      "source": [
        "x1, y1 = int(input()), int(input())\n",
        "x2, y2 = int(input()), int(input())\n",
        "if x1 == x2  or y1 == y2:\n",
        "  print(\"YES\")\n",
        "elif (x1 - y1) == (x2 - y2) or (x1 + y1) == (x2 + y2):\n",
        "  print(\"YES\")\n",
        "else:\n",
        "  print(\"NO\")"
      ],
      "metadata": {
        "colab": {
          "base_uri": "https://localhost:8080/"
        },
        "id": "fnMIthChqVXO",
        "outputId": "ae8fcbb4-0706-424a-c60a-e9f16e8b08fb"
      },
      "execution_count": null,
      "outputs": [
        {
          "output_type": "stream",
          "name": "stdout",
          "text": [
            "1\n",
            "1\n",
            "2\n",
            "2\n",
            "YES\n"
          ]
        }
      ]
    },
    {
      "cell_type": "markdown",
      "source": [
        "Две старушки\n",
        "Две старушки идут навстречу друг другу с постоянными скоростями V 1 и V 2 км/ч. Определите, через какое время (в часах) старушки встретятся, если расстояние между ними равно\n",
        "S км.\n",
        "\n",
        "Пусть v1 и v2 - скорости первого и второго объекта соответственно. Тогда общая скорость движения будет равна v = v1 + v2.\n",
        "\n",
        "Пусть s - путь, который нужно пройти, чтобы объекты встретились. Тогда время движения будет равно t = s / v."
      ],
      "metadata": {
        "id": "cpQzqSV7a90Z"
      }
    },
    {
      "cell_type": "code",
      "source": [
        "s = float(input())\n",
        "v1 = float(input())\n",
        "v2 = float(input())\n",
        "v1_v2 = v1 + v2\n",
        "t = s / v1_v2\n",
        "print(t)\n"
      ],
      "metadata": {
        "id": "A3ACfJbFa84q"
      },
      "execution_count": null,
      "outputs": []
    },
    {
      "cell_type": "markdown",
      "source": [],
      "metadata": {
        "id": "qardPma-ctrU"
      }
    },
    {
      "cell_type": "markdown",
      "source": [
        "**Обратное число**\n",
        "Напишите программу, которая считывает с клавиатуры одно число и выводит обратное ему. Если при этом введённое с клавиатуры число – ноль, то вывести «Обратного числа не существует» (без кавычек).\n",
        "Обратное число - 1 поделить на это число, или число в -1 степени"
      ],
      "metadata": {
        "id": "SjcAKNMibRd9"
      }
    },
    {
      "cell_type": "code",
      "source": [
        "x = float(input())\n",
        "if x == 0:\n",
        "  print(\"Обратного числа не существует\")\n",
        "elif x != 0:\n",
        "  print(1 / x)\n"
      ],
      "metadata": {
        "colab": {
          "base_uri": "https://localhost:8080/"
        },
        "id": "sKmyPeafcDtP",
        "outputId": "08e20df1-40d4-4312-b39f-df2d835f7b8c"
      },
      "execution_count": null,
      "outputs": [
        {
          "output_type": "stream",
          "name": "stdout",
          "text": [
            "-55.66\n",
            "-0.017966223499820338\n"
          ]
        }
      ]
    },
    {
      "cell_type": "markdown",
      "source": [
        "451 градус по Фаренгейту\n",
        "У известного американского писателя Рэя Бредбери есть роман «451 градус по Фаренгейту». Напишите программу, которая определяет, какой температуре по шкале Цельсия соответствует указанное значение по шкале Фаренгейта.\n",
        "\n",
        "Используйте формулу для перевода:\n",
        "\n",
        "Формат входных данных\n",
        "На вход программе подаётся вещественное число градусов по шкале Фаренгейта.\n",
        "\n",
        "Формат выходных данных\n",
        "Программа должна вывести число градусов по шкале Цельсия."
      ],
      "metadata": {
        "id": "6vEmuYN4dmTx"
      }
    },
    {
      "cell_type": "code",
      "source": [
        "f = float(input())\n",
        "c = 5 / 9 * (f - 32)\n",
        "print(c)"
      ],
      "metadata": {
        "colab": {
          "base_uri": "https://localhost:8080/"
        },
        "id": "jlpMyT3_d1Rj",
        "outputId": "7411f8ee-5d2c-447d-e3e3-768a4745f5c7"
      },
      "execution_count": null,
      "outputs": [
        {
          "output_type": "stream",
          "name": "stdout",
          "text": [
            "450.55\n",
            "232.5277777777778\n"
          ]
        }
      ]
    },
    {
      "cell_type": "markdown",
      "source": [
        "Dog age\n",
        "На вход программе подается число\n",
        "�\n",
        "n – количество собачьих лет. Напишите программу, которая вычисляет возраст собаки в человеческих годах по следующему алгоритму: в течение первых двух лет собачий год равен\n",
        "10.5\n",
        "10.5 человеческим годам, после этого каждый год собаки равен\n",
        "4\n",
        "4 человеческим годам.\n",
        "\n",
        "Формат входных данных\n",
        "На вход программе подаётся натуральное число – количество собачьих лет.\n",
        "\n",
        "Формат выходных данных\n",
        "Программа должна вывести возраст собаки в человеческих годах."
      ],
      "metadata": {
        "id": "8FS1hR-jeZkd"
      }
    },
    {
      "cell_type": "code",
      "source": [
        "n = int(input())\n",
        "if n == 1:\n",
        "  print(10.5)\n",
        "elif n == 2:\n",
        "  print(21)\n",
        "elif n > 2:\n",
        "  print(21 + (n - 2) * 4)"
      ],
      "metadata": {
        "colab": {
          "base_uri": "https://localhost:8080/"
        },
        "id": "Wex_eCesea7T",
        "outputId": "cdafd5d7-47d6-440f-9c03-5345addc1bb5"
      },
      "execution_count": null,
      "outputs": [
        {
          "output_type": "stream",
          "name": "stdout",
          "text": [
            "3\n",
            "25\n"
          ]
        }
      ]
    },
    {
      "cell_type": "markdown",
      "source": [
        "Первая цифра после точки\n",
        "Дано положительное действительное число. Выведите его первую цифру после десятичной точки.\n",
        "Выглядело страшней чем есть на самом деле. Решила в 4 строки.\n",
        "\n",
        "а=флоат от инпута\n",
        "\n",
        "б=инт от а*10 избавились от хвоста\n",
        "\n",
        "с=б%10 узнали последнее число\n",
        "\n",
        "принт с"
      ],
      "metadata": {
        "id": "xpzorklygK8d"
      }
    },
    {
      "cell_type": "code",
      "source": [
        "x = float(input())\n",
        "a = x * 10\n",
        "b = int(a % 10)\n",
        "print(b)"
      ],
      "metadata": {
        "colab": {
          "base_uri": "https://localhost:8080/"
        },
        "id": "UI6CMZTwgSpp",
        "outputId": "8587f3f1-29f4-4905-df1f-e24ce65f31cf"
      },
      "execution_count": null,
      "outputs": [
        {
          "output_type": "stream",
          "name": "stdout",
          "text": [
            "33.444\n",
            "4\n"
          ]
        }
      ]
    },
    {
      "cell_type": "code",
      "source": [
        "x = float(input())\n",
        "print(x % 1)"
      ],
      "metadata": {
        "id": "BSB8gtnaglzY",
        "colab": {
          "base_uri": "https://localhost:8080/"
        },
        "outputId": "be7f5144-f2a1-4655-fb87-b2d0095fd8d7"
      },
      "execution_count": null,
      "outputs": [
        {
          "output_type": "stream",
          "name": "stdout",
          "text": [
            "44.55\n",
            "0.5499999999999972\n"
          ]
        }
      ]
    },
    {
      "cell_type": "code",
      "source": [
        "print(max(1, 3, -5, 7) + min(-3, 6, -8, -1) + abs(-17))"
      ],
      "metadata": {
        "colab": {
          "base_uri": "https://localhost:8080/"
        },
        "id": "iMcPYh-ph-Ux",
        "outputId": "20ef62ec-2df8-4bc9-a2a4-e8a4fdd47fcb"
      },
      "execution_count": null,
      "outputs": [
        {
          "output_type": "stream",
          "name": "stdout",
          "text": [
            "16\n"
          ]
        }
      ]
    },
    {
      "cell_type": "code",
      "source": [
        "a = int(input())\n",
        "b = int(input())\n",
        "c = int(input())\n",
        "if a == max(a,b,c) and b == min(a, b, c):\n",
        "  print(a)\n",
        "  print(c)\n",
        "  print(b)\n",
        "elif a == max(a,b,c) and c == min(a,b,c):\n",
        "  print(a)\n",
        "  print(b)\n",
        "  print(c)\n",
        "elif b == max(a,b,c) and a == min(a, b, c):\n",
        "  print(b)\n",
        "  print(c)\n",
        "  print(a)\n",
        "elif b == max(a,b,c) and c == min(a,b,c):\n",
        "  print(b)\n",
        "  print(a)\n",
        "  print(c)\n",
        "elif c == max(a,b,c) and a == min(a,b,c):\n",
        "  print(c)\n",
        "  print(b)\n",
        "  print(a)\n",
        "elif c == max(a,b,c) and b == min(a,b,c):\n",
        "  print(c)\n",
        "  print(a)\n",
        "  print(b)\n",
        "\n",
        "\n"
      ],
      "metadata": {
        "colab": {
          "base_uri": "https://localhost:8080/"
        },
        "id": "g9-Zr9Lxip33",
        "outputId": "01a58eb0-14d8-4dd3-f7d8-07c9a39890ae"
      },
      "execution_count": null,
      "outputs": [
        {
          "output_type": "stream",
          "name": "stdout",
          "text": [
            "132\n",
            "129\n",
            "135\n",
            "135\n",
            "132\n",
            "129\n"
          ]
        }
      ]
    },
    {
      "cell_type": "markdown",
      "source": [
        "Интересное число\n",
        "Назовем число интересным, если в нем разность максимальной и минимальной цифры равняется средней по величине цифре. Напишите программу, которая определяет, интересное число или нет. Если число интересное, следует вывести «Число интересное», иначе - «Число неинтересное»."
      ],
      "metadata": {
        "id": "8SwmvrQup_5R"
      }
    },
    {
      "cell_type": "code",
      "source": [
        "x = int(input())\n",
        "hund = (x % 1000)//100\n",
        "tens = (x % 100)//10\n",
        "ones = x % 10\n",
        "if (max(hund, tens, ones) - min(hund, tens, ones)) == (hund + tens + ones) - (max(hund, tens, ones)+min(hund, tens, ones)):\n",
        "  print(\"Число интересное\")\n",
        "else:\n",
        "  print(\"Число неинтересное\")\n"
      ],
      "metadata": {
        "colab": {
          "base_uri": "https://localhost:8080/"
        },
        "id": "pykVZDhCqCGC",
        "outputId": "8a1dce5e-c8ef-4a29-d572-b3b01f9edc92"
      },
      "execution_count": null,
      "outputs": [
        {
          "output_type": "stream",
          "name": "stdout",
          "text": [
            "945\n",
            "Число интересное\n"
          ]
        }
      ]
    },
    {
      "cell_type": "markdown",
      "source": [
        "**Три города**\n",
        "Даны названия трех городов. Напишите программу, которая определяет самое короткое и самое длинное название города.\n",
        "\n",
        "Формат входных данных\n",
        "На вход программе подаётся названия трех городов, каждое на отдельной строке.\n",
        "\n",
        "Формат выходных данных\n",
        "Программа должна вывести самое короткое и длинное название города, каждое на отдельной строке.\n",
        "\n",
        "Примечание. Гарантируется, что длины названий всех трех городов различны"
      ],
      "metadata": {
        "id": "D-AsvS9kmlCw"
      }
    },
    {
      "cell_type": "code",
      "source": [
        "a = input()\n",
        "b = input()\n",
        "c = input()\n",
        "if len(a) < len(b) and len(a) < len(c):\n",
        "  print(a)\n",
        "elif len(b) < len(a) and len(b) < len(c):\n",
        "  print(b)\n",
        "elif len(c) < len(a) and len(c) < len(b):\n",
        "  print(c)\n",
        "if len(a) > len(b) and len(a) > len(c):\n",
        "  print(a)\n",
        "elif len(b) > len(a) and len(b) > len(c):\n",
        "  print(b)\n",
        "elif len(c) > len(a) and len(c) > len(b):\n",
        "  print(c)"
      ],
      "metadata": {
        "colab": {
          "base_uri": "https://localhost:8080/"
        },
        "id": "x7k5_0xAi8m6",
        "outputId": "f98bcbbb-ec72-461d-bc63-3a893ed99d84"
      },
      "execution_count": null,
      "outputs": [
        {
          "output_type": "stream",
          "name": "stdout",
          "text": [
            "Париж\n",
            "Леон\n",
            "Марсель\n",
            "Леон\n",
            "Марсель\n"
          ]
        }
      ]
    },
    {
      "cell_type": "markdown",
      "source": [
        "**Арифметические строки**\n",
        "Вводятся\n",
        "3\n",
        "3 строки в случайном порядке. Напишите программу, которая выясняет, можно ли из длин этих строк построить арифметическую прогрессию.\n",
        "\n",
        "Формат входных данных\n",
        "На вход программе подаются три строки, каждая на отдельной строке.\n",
        "\n",
        "Формат выходных данных\n",
        "Программа должна вывести строку «YES», если из длин введенных слов можно построить арифметическую прогрессию, или «NO» - в противном случае.\n",
        "\n",
        "Примечание. Почитать про арифметическую прогрессию можно по ссылке."
      ],
      "metadata": {
        "id": "C9sILpQkm8iO"
      }
    },
    {
      "cell_type": "code",
      "source": [
        "a, b, c = len(input()), len(input()), len(input())\n",
        "if (2*b - c - a) * (2*c - b - a) * (2*a - b - c) == 0:\n",
        "  print(\"YES\")\n",
        "else:\n",
        "  print(\"NO\")"
      ],
      "metadata": {
        "colab": {
          "base_uri": "https://localhost:8080/"
        },
        "id": "72dkZ5cZm_sC",
        "outputId": "4c60b652-145f-4c69-d4cb-8716281bc1ba"
      },
      "execution_count": null,
      "outputs": [
        {
          "output_type": "stream",
          "name": "stdout",
          "text": [
            "adc\n",
            "s\n",
            "asdcd\n",
            "YES\n"
          ]
        }
      ]
    },
    {
      "cell_type": "markdown",
      "source": [
        "#**МОДУЛЬ MATH**"
      ],
      "metadata": {
        "id": "wf2AiaS9AlNn"
      }
    },
    {
      "cell_type": "markdown",
      "source": [
        "На плоскости евклидово расстояние между двумя точками\n",
        "\n",
        "*  Напишите программу определяющую евклидово расстояние между двумя точками, координаты которых заданы.\n",
        "\n",
        "* На вход программе подается четыре вещественных числа, каждое на отдельной строке –\n",
        "\n",
        "* Формат выходных данных\n",
        "Программа должна вывести одно число – евклидово расстояние.\n",
        "\n"
      ],
      "metadata": {
        "id": "jJ1oKDHapQog"
      }
    },
    {
      "cell_type": "markdown",
      "source": [
        "![image.png](data:image/png;base64,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)"
      ],
      "metadata": {
        "id": "y676dfQapFcO"
      }
    },
    {
      "cell_type": "code",
      "source": [
        "x1, y1 = float(input()), float(input())\n",
        "x2, y2 = float(input()), float(input())\n",
        "from math import sqrt\n",
        "p = sqrt(((x1 - x2) ** 2) + ((y1 - y2) ** 2))\n",
        "print(p)"
      ],
      "metadata": {
        "id": "UYC6jA9HpY3a",
        "colab": {
          "base_uri": "https://localhost:8080/"
        },
        "outputId": "25f051b4-ad83-4563-f5af-895fb43c5e6f"
      },
      "execution_count": 4,
      "outputs": [
        {
          "output_type": "stream",
          "name": "stdout",
          "text": [
            "2.9\n",
            "2.5\n",
            "100\n",
            "44.155\n",
            "105.65769742427666\n"
          ]
        }
      ]
    },
    {
      "cell_type": "markdown",
      "source": [
        "**Площадь и длина**\n",
        "* Напишите программу определяющую площадь круга и длину окружности по заданному радиусу R.\n",
        "\n",
        "* Формат входных данных\n",
        "На вход программе подается одно вещественное число R​.\n",
        "\n",
        "* Формат выходных данных\n",
        "Программа должна вывести два числа – площадь круга и длину окружности радиуса\n",
        "\n"
      ],
      "metadata": {
        "id": "epA7XYHHraUC"
      }
    },
    {
      "cell_type": "code",
      "source": [
        "R = float(input())\n",
        "from math import pi\n",
        "S = pi * (R ** 2)\n",
        "C = 2 * (pi * R)\n",
        "print(S)\n",
        "print(C)"
      ],
      "metadata": {
        "colab": {
          "base_uri": "https://localhost:8080/"
        },
        "id": "wFvQDewTs2VO",
        "outputId": "f4743a2c-5473-4bd5-8338-17b08de890e0"
      },
      "execution_count": 5,
      "outputs": [
        {
          "output_type": "stream",
          "name": "stdout",
          "text": [
            "554.6\n",
            "966294.7126386268\n",
            "3484.654571361799\n"
          ]
        }
      ]
    },
    {
      "cell_type": "markdown",
      "source": [
        "**Средние значения**\n",
        "![image.png](data:image/png;base64,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)"
      ],
      "metadata": {
        "id": "w2v9F2wzvaN3"
      }
    },
    {
      "cell_type": "code",
      "source": [
        "a, b = float(input()), float(input())\n",
        "# среднее арифмитическое\n",
        "sr1 = (a+b)/2\n",
        "# среднее геометрическое\n",
        "from math import sqrt\n",
        "sr2 = sqrt(a*b)\n",
        "# среднее гармоническое\n",
        "sr3 = (2 * a * b) / (a + b)\n",
        "# средне квадратичное\n",
        "sr4 = sqrt((a**2 + b**2)/2)\n",
        "print(sr1)\n",
        "print(sr2)\n",
        "print(sr3)\n",
        "print(sr44)"
      ],
      "metadata": {
        "colab": {
          "base_uri": "https://localhost:8080/"
        },
        "id": "DwwkOj39vsCW",
        "outputId": "f17279fd-d3f9-42c1-a365-58a17c460de6"
      },
      "execution_count": 7,
      "outputs": [
        {
          "output_type": "stream",
          "name": "stdout",
          "text": [
            "35.1\n",
            "40.3\n",
            "37.7\n",
            "37.61023796787252\n",
            "37.52068965517241\n",
            "37.78954881974644\n"
          ]
        }
      ]
    },
    {
      "cell_type": "markdown",
      "source": [
        "Перевети угол в радианы и посчитать тригонометрическое  выражение"
      ],
      "metadata": {
        "id": "0YS9nYRhxNNw"
      }
    },
    {
      "cell_type": "code",
      "source": [
        "x = float(input())\n",
        "from math import radians, sin, cos, tan\n",
        "x_rad = radians(x)\n",
        "a = sin(x_rad) + cos(x_rad) + tan(x_rad)**2\n",
        "print(a)\n"
      ],
      "metadata": {
        "colab": {
          "base_uri": "https://localhost:8080/"
        },
        "id": "5UjTdJQIwv0e",
        "outputId": "57b5e3fa-3899-4eae-d874-24403dc2e461"
      },
      "execution_count": 8,
      "outputs": [
        {
          "output_type": "stream",
          "name": "stdout",
          "text": [
            "30.0\n",
            "1.6993587371177719\n"
          ]
        }
      ]
    },
    {
      "cell_type": "markdown",
      "source": [
        "**Пол и потолок**\n",
        "\n",
        "Напишите программу, вычисляющую значение\n",
        "\n",
        "⌈x⌉ +⌊x⌋ по заданному вещественному числу\n",
        "\n",
        "Формат входных данных\n",
        "На вход программе подается одно вещественное число\n",
        "\n",
        "Формат выходных данных\n",
        "Программа должна вывести одно число – значение указанного выражения."
      ],
      "metadata": {
        "id": "N0ZNrQdz0CLm"
      }
    },
    {
      "cell_type": "code",
      "source": [
        "#квадратные скобки, закрывающиеся сверху - это потолок, снизу пол\n",
        "x = float(input())\n",
        "from math import ceil, floor\n",
        "a = ceil(x) + floor(x)\n",
        "print(a)"
      ],
      "metadata": {
        "colab": {
          "base_uri": "https://localhost:8080/"
        },
        "id": "wucEe_Km0K-a",
        "outputId": "da6595ff-2f74-4484-bc74-a0dc914e3342"
      },
      "execution_count": 9,
      "outputs": [
        {
          "output_type": "stream",
          "name": "stdout",
          "text": [
            "5.5\n",
            "11\n"
          ]
        }
      ]
    },
    {
      "cell_type": "code",
      "source": [
        "a, b, c = float(input()), float(input()), float(input())\n",
        "from math import sqrt\n",
        "\n",
        "#найти дискриминант по формуле\n",
        "D = (b**2) - (4*a*c)\n",
        "\n",
        "#если D меньше нуля вывести нет корней, если больше - по формуле, если равно по формуле\n",
        "if D < 0:\n",
        "  print(\"Нет корней\")\n",
        "elif D > 0:\n",
        "  x1 = (-b + sqrt(D))/(2*a)\n",
        "  x2 = (-b - sqrt(D))/(2*a)\n",
        "  print(min(x1,x2), max(x1,x2))\n",
        "elif D == 0:\n",
        "  x3 = -(b/(2*a))\n",
        "  print(x3)\n",
        "\n"
      ],
      "metadata": {
        "colab": {
          "base_uri": "https://localhost:8080/"
        },
        "id": "NZfJZR_02hdT",
        "outputId": "f9270e6f-a34e-4dd5-b09d-72ba7ad98119"
      },
      "execution_count": 10,
      "outputs": [
        {
          "output_type": "stream",
          "name": "stdout",
          "text": [
            "1\n",
            "2\n",
            "1\n",
            "-1.0\n"
          ]
        }
      ]
    },
    {
      "cell_type": "markdown",
      "source": [
        "**Правильный многоугольник**\n",
        "Правильный многоугольник — выпуклый многоугольник, у которого равны все стороны и все углы между смежными сторонами. Площадь правильного многоугольника с длиной стороны a и количеством сторон n вычисляется по формуле:\n",
        "\n",
        "* Даны два числа: **натуральное число\n",
        "n и вещественное число a**. Напишите программу, которая находит площадь указанного правильного многоугольника.\n",
        "\n",
        "Формат входных данных\n",
        "На вход программе подается два числа\n",
        "n и a, каждое на отдельной строке.\n",
        "\n",
        "Формат выходных данных\n",
        "Программа должна вывести вещественное число – площадь многоугольника."
      ],
      "metadata": {
        "id": "BStxyROW5zpp"
      }
    },
    {
      "cell_type": "code",
      "source": [
        "n = int(input())\n",
        "a = float(input())\n",
        "from math import pi, tan\n",
        "S = (n * a**2) / (4 * tan(pi/n))\n",
        "print(S)\n"
      ],
      "metadata": {
        "colab": {
          "base_uri": "https://localhost:8080/"
        },
        "id": "cwkV6zVR6GhQ",
        "outputId": "f741b168-1b34-453d-8442-511c8d07239b"
      },
      "execution_count": 13,
      "outputs": [
        {
          "output_type": "stream",
          "name": "stdout",
          "text": [
            "3\n",
            "2.0\n",
            "1.7320508075688779\n"
          ]
        }
      ]
    },
    {
      "cell_type": "markdown",
      "source": [
        "# ***ЦИКЛЫ***"
      ],
      "metadata": {
        "id": "tAxljC9z88JS"
      }
    },
    {
      "cell_type": "code",
      "source": [],
      "metadata": {
        "id": "AeC0a7TeAcDO"
      },
      "execution_count": null,
      "outputs": []
    }
  ]
}